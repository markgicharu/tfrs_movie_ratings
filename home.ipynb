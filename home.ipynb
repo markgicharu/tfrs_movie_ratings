{
 "cells": [
  {
   "cell_type": "code",
   "execution_count": null,
   "source": [],
   "outputs": [],
   "metadata": {}
  }
 ],
 "metadata": {
  "orig_nbformat": 4,
  "language_info": {
   "name": "python",
   "version": "3.8.6"
  },
  "kernelspec": {
   "name": "python3",
   "display_name": "Python 3.8.6 64-bit ('tf24-venv')"
  },
  "interpreter": {
   "hash": "7414b1aafffceffb27f811cc4939e5e805dd330690e2f05b01bfdeea19e1df2f"
  }
 },
 "nbformat": 4,
 "nbformat_minor": 2
}